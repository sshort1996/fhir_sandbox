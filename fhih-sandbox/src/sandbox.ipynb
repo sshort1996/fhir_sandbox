{
 "cells": [
  {
   "cell_type": "markdown",
   "metadata": {},
   "source": [
    "# HAPI FIHR API "
   ]
  },
  {
   "cell_type": "markdown",
   "metadata": {},
   "source": [
    "## Basic interactions with FIHR API and `requests`"
   ]
  },
  {
   "cell_type": "code",
   "execution_count": 2,
   "metadata": {},
   "outputs": [],
   "source": [
    "import requests\n",
    "import json\n",
    "\n",
    "# Define the base URL of the FHIR server\n",
    "base_url = 'https://hapi.fhir.org/baseR4'\n",
    "\n",
    "# Function to send a GET request to retrieve a resource\n",
    "def get_resource(resource_type, resource_id):\n",
    "    url = f'{base_url}/{resource_type}/{resource_id}'\n",
    "    response = requests.get(url)\n",
    "    \n",
    "    if response.status_code == 200:\n",
    "        return response.json()\n",
    "    else:\n",
    "        print(f'Error: {response.status_code}')\n",
    "   \n",
    "# Function to send a POST request to create a new resource\n",
    "def create_resource(resource_type, resource_data):\n",
    "    url = f'{base_url}/{resource_type}'\n",
    "    headers = {'Content-Type': 'application/json'}\n",
    "    response = requests.post(url, headers=headers, data=json.dumps(resource_data))\n",
    "    \n",
    "    if response.status_code == 201:\n",
    "        return response.json()\n",
    "    else:\n",
    "        print(f'Error: {response.status_code}')"
   ]
  },
  {
   "cell_type": "code",
   "execution_count": 11,
   "metadata": {},
   "outputs": [
    {
     "name": "stdout",
     "output_type": "stream",
     "text": [
      "c:\\Users\\ShaneShort\\Documents\\fhih_learning\\fhih-sandbox\\src\n"
     ]
    }
   ],
   "source": [
    "import os\n",
    "print(os.getcwd())"
   ]
  },
  {
   "cell_type": "code",
   "execution_count": 12,
   "metadata": {},
   "outputs": [],
   "source": [
    "# Assuming the JSON object is stored in a file called 'data.json'\n",
    "with open('../data/patient_details.fhir.json') as json_file:\n",
    "    data = json.load(json_file)"
   ]
  },
  {
   "cell_type": "code",
   "execution_count": 13,
   "metadata": {},
   "outputs": [
    {
     "name": "stdout",
     "output_type": "stream",
     "text": [
      "created_patient: {'resourceType': 'Patient', 'id': '33484261', 'meta': {'versionId': '1', 'lastUpdated': '2023-11-06T04:07:58.052+00:00', 'source': '#GlfyAfJ6VmSoj33G'}, 'text': {'status': 'generated', 'div': '<div xmlns=\"http://www.w3.org/1999/xhtml\"><div class=\"hapiHeaderText\">Shane Anthony <b>SHORT </b></div><table class=\"hapiPropertyTable\"><tbody><tr><td>Address</td><td><span>Unit 13, 1 High Street </span><br/><span>Fremantle </span><span>Western Australia </span><span>Australia </span></td></tr><tr><td>Date of birth</td><td><span>24 July 1996</span></td></tr></tbody></table></div>'}, 'name': [{'use': 'official', 'family': 'Short', 'given': ['Shane', 'Anthony']}], 'telecom': [{'system': 'phone', 'value': '0473519400', 'use': 'mobile'}, {'system': 'phone', 'value': '+353851784179', 'use': 'old'}, {'system': 'email', 'value': 'shane.short5@gmail.com'}], 'gender': 'male', 'birthDate': '1996-07-24', 'address': [{'use': 'home', 'type': 'both', 'line': ['Unit 13, 1 High Street'], 'city': 'Fremantle', 'state': 'Western Australia', 'postalCode': '6160', 'country': 'Australia'}]}\n",
      "retrieved_patient: {'resourceType': 'Patient', 'id': '33484261', 'meta': {'versionId': '1', 'lastUpdated': '2023-11-06T04:07:58.052+00:00', 'source': '#GlfyAfJ6VmSoj33G'}, 'text': {'status': 'generated', 'div': '<div xmlns=\"http://www.w3.org/1999/xhtml\"><div class=\"hapiHeaderText\">Shane Anthony <b>SHORT </b></div><table class=\"hapiPropertyTable\"><tbody><tr><td>Address</td><td><span>Unit 13, 1 High Street </span><br/><span>Fremantle </span><span>Western Australia </span><span>Australia </span></td></tr><tr><td>Date of birth</td><td><span>24 July 1996</span></td></tr></tbody></table></div>'}, 'name': [{'use': 'official', 'family': 'Short', 'given': ['Shane', 'Anthony']}], 'telecom': [{'system': 'phone', 'value': '0473519400', 'use': 'mobile'}, {'system': 'phone', 'value': '+353851784179', 'use': 'old'}, {'system': 'email', 'value': 'shane.short5@gmail.com'}], 'gender': 'male', 'birthDate': '1996-07-24', 'address': [{'use': 'home', 'type': 'both', 'line': ['Unit 13, 1 High Street'], 'city': 'Fremantle', 'state': 'Western Australia', 'postalCode': '6160', 'country': 'Australia'}]}\n"
     ]
    }
   ],
   "source": [
    "# Create a new patient resource\n",
    "created_patient = create_resource(\"Patient\", data)\n",
    "print(f'created_patient: {created_patient}')\n",
    "\n",
    "# Retrieve a patient resource\n",
    "retrieved_patient = get_resource(\"Patient\", created_patient[\"id\"])\n",
    "print(f'retrieved_patient: {retrieved_patient}')"
   ]
  },
  {
   "cell_type": "code",
   "execution_count": 14,
   "metadata": {},
   "outputs": [
    {
     "name": "stdout",
     "output_type": "stream",
     "text": [
      "{\n",
      "    \"resourceType\": \"Patient\",\n",
      "    \"id\": \"33484261\",\n",
      "    \"meta\": {\n",
      "        \"versionId\": \"1\",\n",
      "        \"lastUpdated\": \"2023-11-06T04:07:58.052+00:00\",\n",
      "        \"source\": \"#GlfyAfJ6VmSoj33G\"\n",
      "    },\n",
      "    \"text\": {\n",
      "        \"status\": \"generated\",\n",
      "        \"div\": \"<div xmlns=\\\"http://www.w3.org/1999/xhtml\\\"><div class=\\\"hapiHeaderText\\\">Shane Anthony <b>SHORT </b></div><table class=\\\"hapiPropertyTable\\\"><tbody><tr><td>Address</td><td><span>Unit 13, 1 High Street </span><br/><span>Fremantle </span><span>Western Australia </span><span>Australia </span></td></tr><tr><td>Date of birth</td><td><span>24 July 1996</span></td></tr></tbody></table></div>\"\n",
      "    },\n",
      "    \"name\": [\n",
      "        {\n",
      "            \"use\": \"official\",\n",
      "            \"family\": \"Short\",\n",
      "            \"given\": [\n",
      "                \"Shane\",\n",
      "                \"Anthony\"\n",
      "            ]\n",
      "        }\n",
      "    ],\n",
      "    \"telecom\": [\n",
      "        {\n",
      "            \"system\": \"phone\",\n",
      "            \"value\": \"0473519400\",\n",
      "            \"use\": \"mobile\"\n",
      "        },\n",
      "        {\n",
      "            \"system\": \"phone\",\n",
      "            \"value\": \"+353851784179\",\n",
      "            \"use\": \"old\"\n",
      "        },\n",
      "        {\n",
      "            \"system\": \"email\",\n",
      "            \"value\": \"shane.short5@gmail.com\"\n",
      "        }\n",
      "    ],\n",
      "    \"gender\": \"male\",\n",
      "    \"birthDate\": \"1996-07-24\",\n",
      "    \"address\": [\n",
      "        {\n",
      "            \"use\": \"home\",\n",
      "            \"type\": \"both\",\n",
      "            \"line\": [\n",
      "                \"Unit 13, 1 High Street\"\n",
      "            ],\n",
      "            \"city\": \"Fremantle\",\n",
      "            \"state\": \"Western Australia\",\n",
      "            \"postalCode\": \"6160\",\n",
      "            \"country\": \"Australia\"\n",
      "        }\n",
      "    ]\n",
      "}\n"
     ]
    }
   ],
   "source": [
    "print(json.dumps(retrieved_patient, indent=4))"
   ]
  },
  {
   "cell_type": "code",
   "execution_count": 3,
   "metadata": {},
   "outputs": [
    {
     "name": "stdout",
     "output_type": "stream",
     "text": [
      "Patient resource deleted successfully\n",
      "Patient resource deleted successfully\n"
     ]
    }
   ],
   "source": [
    "delete_ids = [33483719, 33483720]\n",
    "\n",
    "for id in delete_ids:\n",
    "    # Construct the URL for the specific patient resource\n",
    "    delete_url = f\"{base_url}/Patient/{id}\"\n",
    "\n",
    "    # Send the DELETE request\n",
    "    response = requests.delete(delete_url)\n",
    "\n",
    "    # Check the response status code\n",
    "    if response.status_code == 200:\n",
    "        print(\"Patient resource deleted successfully\")\n",
    "    else:\n",
    "        print(\"Error deleting patient resource:\", response.text)\n"
   ]
  },
  {
   "cell_type": "markdown",
   "metadata": {},
   "source": [
    "## `fhir.resources` FHIR supported official python library"
   ]
  },
  {
   "cell_type": "markdown",
   "metadata": {},
   "source": [
    "The official fhir library provides dataclasses for each of the defined fhir resource types, see below"
   ]
  },
  {
   "cell_type": "code",
   "execution_count": 15,
   "metadata": {},
   "outputs": [],
   "source": [
    "from fhir.resources.patient import Patient\n",
    "\n",
    "# Create a new Patient resource\n",
    "John_Doe = Patient()\n",
    "\n",
    "# Set the patient's name\n",
    "John_Doe.name = [{\n",
    "    \"given\": [\"John\"],\n",
    "    \"family\": \"Doe\"\n",
    "}]\n",
    "\n",
    "# Set the patient's date of birth\n",
    "John_Doe.birthDate = \"1990-01-01\"\n",
    "\n",
    "# Set the patient's gender\n",
    "John_Doe.gender = \"male\"\n",
    "\n",
    "# Set the patient's address\n",
    "John_Doe.address = [{\n",
    "    \"line\": [\"1234 Main St\"],\n",
    "    \"city\": \"Anytown\",\n",
    "    \"state\": \"CA\",\n",
    "    \"postalCode\": \"12345\"\n",
    "}]\n"
   ]
  },
  {
   "cell_type": "code",
   "execution_count": 17,
   "metadata": {},
   "outputs": [
    {
     "name": "stdout",
     "output_type": "stream",
     "text": [
      "[HumanName(resource_type='HumanName', fhir_comments=None, extension=None, id=None, family='Doe', family__ext=None, given=['John'], given__ext=None, period=None, prefix=None, prefix__ext=None, suffix=None, suffix__ext=None, text=None, text__ext=None, use=None, use__ext=None)]\n",
      "[Address(resource_type='Address', fhir_comments=None, extension=None, id=None, city='Anytown', city__ext=None, country=None, country__ext=None, district=None, district__ext=None, line=['1234 Main St'], line__ext=None, period=None, postalCode='12345', postalCode__ext=None, state='CA', state__ext=None, text=None, text__ext=None, type=None, type__ext=None, use=None, use__ext=None)]\n"
     ]
    }
   ],
   "source": [
    "print(John_Doe.name)\n",
    "print(John_Doe.address)"
   ]
  },
  {
   "cell_type": "markdown",
   "metadata": {},
   "source": [
    "Can read in existing objects as:"
   ]
  },
  {
   "cell_type": "code",
   "execution_count": 55,
   "metadata": {},
   "outputs": [
    {
     "name": "stdout",
     "output_type": "stream",
     "text": [
      "my_patient: Shane Anthony Short\n",
      "my_patient: resource_type='Address' fhir_comments=None extension=None id=None city='Fremantle' city__ext=None country='Australia' country__ext=None district=None district__ext=None line=['Unit 13, 1 High Street'] line__ext=None period=None postalCode='6160' postalCode__ext=None state='Western Australia' state__ext=None text=None text__ext=None type='both' type__ext=None use='home' use__ext=None\n",
      "my_patient: Unit 13, 1 High Street, Fremantle, Western Australia, Australia\n"
     ]
    }
   ],
   "source": [
    "from fhir.resources.patient import Patient\n",
    "\n",
    "\n",
    "file_path = '../data/patient_details.fhir.json'\n",
    "my_patient = Patient.parse_file(file_path)\n",
    "pat.resource_type == \"Patient\"\n",
    "print(f'my_patient: {\" \".join(my_patient.name[0].given)} {(my_patient.name[0].family)}')\n",
    "print(f'my_patient: {(my_patient.address[0])}')\n",
    "print(f'my_patient: {\" \".join(my_patient.address[0].line)}, {(my_patient.address[0].city)}, {(my_patient.address[0].state)}, {(my_patient.address[0].country)}')"
   ]
  },
  {
   "cell_type": "markdown",
   "metadata": {},
   "source": [
    "This is a little clumsy, would be nice to override the Patient class with a json method, let's dig into the fhir.resources source a little"
   ]
  },
  {
   "cell_type": "markdown",
   "metadata": {},
   "source": [
    "From the `fhirabstractmodel` base ojbect we have these two methods\n",
    "\n",
    "```python \n",
    " @classmethod\n",
    "    def parse_file(\n",
    "        cls: typing.Type[\"Model\"],\n",
    "        path: typing.Union[str, pathlib.Path],\n",
    "        *,\n",
    "        content_type: str = None,\n",
    "        encoding: str = \"utf8\",\n",
    "        proto: Protocol = None,\n",
    "        allow_pickle: bool = False,\n",
    "        **extra,\n",
    "    ) -> \"Model\":\n",
    "        extra.update({\"cls\": cls})\n",
    "        obj = load_file(\n",
    "            path,\n",
    "            proto=proto,\n",
    "            content_type=content_type,\n",
    "            encoding=encoding,\n",
    "            allow_pickle=allow_pickle,\n",
    "            json_loads=cls.__config__.json_loads,\n",
    "            **extra,\n",
    "        )\n",
    "        return cls.parse_obj(obj)\n",
    "\n",
    "    @classmethod\n",
    "    def parse_raw(\n",
    "        cls: typing.Type[\"Model\"],\n",
    "        b: \"StrBytes\",\n",
    "        *,\n",
    "        content_type: str = None,\n",
    "        encoding: str = \"utf8\",\n",
    "        proto: Protocol = None,\n",
    "        allow_pickle: bool = False,\n",
    "        **extra,\n",
    "    ) -> \"Model\":\n",
    "        extra.update({\"cls\": cls})\n",
    "        try:\n",
    "            obj = load_str_bytes(\n",
    "                b,\n",
    "                proto=proto,\n",
    "                content_type=content_type,\n",
    "                encoding=encoding,\n",
    "                allow_pickle=allow_pickle,\n",
    "                json_loads=cls.__config__.json_loads,\n",
    "                **extra,\n",
    "            )\n",
    "        except (ValueError, TypeError, UnicodeDecodeError) as e:  # noqa: B014\n",
    "            raise ValidationError([ErrorWrapper(e, loc=ROOT_KEY)], cls)\n",
    "        return cls.parse_obj(obj)\n",
    "```\n",
    "\n",
    "Let's try using the raw method and see if that allows us to parse as json\n"
   ]
  },
  {
   "cell_type": "code",
   "execution_count": 56,
   "metadata": {},
   "outputs": [
    {
     "ename": "ValidationError",
     "evalue": "1 validation error for Patient\n__root__\n  Expecting value: line 1 column 1 (char 0) (type=value_error.jsondecode; msg=Expecting value; doc=../data/patient_details.fhir.json; pos=0; lineno=1; colno=1)",
     "output_type": "error",
     "traceback": [
      "\u001b[1;31m---------------------------------------------------------------------------\u001b[0m",
      "\u001b[1;31mJSONDecodeError\u001b[0m                           Traceback (most recent call last)",
      "File \u001b[1;32m~\\AppData\\Local\\pypoetry\\Cache\\virtualenvs\\fhih-NkzppR2Z-py3.11\\Lib\\site-packages\\fhir\\resources\\core\\fhirabstractmodel.py:258\u001b[0m, in \u001b[0;36mFHIRAbstractModel.parse_raw\u001b[1;34m(cls, b, content_type, encoding, proto, allow_pickle, **extra)\u001b[0m\n\u001b[0;32m    257\u001b[0m \u001b[39mtry\u001b[39;00m:\n\u001b[1;32m--> 258\u001b[0m     obj \u001b[39m=\u001b[39m load_str_bytes(\n\u001b[0;32m    259\u001b[0m         b,\n\u001b[0;32m    260\u001b[0m         proto\u001b[39m=\u001b[39;49mproto,\n\u001b[0;32m    261\u001b[0m         content_type\u001b[39m=\u001b[39;49mcontent_type,\n\u001b[0;32m    262\u001b[0m         encoding\u001b[39m=\u001b[39;49mencoding,\n\u001b[0;32m    263\u001b[0m         allow_pickle\u001b[39m=\u001b[39;49mallow_pickle,\n\u001b[0;32m    264\u001b[0m         json_loads\u001b[39m=\u001b[39;49m\u001b[39mcls\u001b[39;49m\u001b[39m.\u001b[39;49m__config__\u001b[39m.\u001b[39;49mjson_loads,\n\u001b[0;32m    265\u001b[0m         \u001b[39m*\u001b[39;49m\u001b[39m*\u001b[39;49mextra,\n\u001b[0;32m    266\u001b[0m     )\n\u001b[0;32m    267\u001b[0m \u001b[39mexcept\u001b[39;00m (\u001b[39mValueError\u001b[39;00m, \u001b[39mTypeError\u001b[39;00m, \u001b[39mUnicodeDecodeError\u001b[39;00m) \u001b[39mas\u001b[39;00m e:  \u001b[39m# noqa: B014\u001b[39;00m\n",
      "File \u001b[1;32m~\\AppData\\Local\\pypoetry\\Cache\\virtualenvs\\fhih-NkzppR2Z-py3.11\\Lib\\site-packages\\fhir\\resources\\core\\utils\\__init__.py:98\u001b[0m, in \u001b[0;36mload_str_bytes\u001b[1;34m(b, content_type, encoding, proto, allow_pickle, json_loads, **extra)\u001b[0m\n\u001b[0;32m     97\u001b[0m         \u001b[39mreturn\u001b[39;00m obj\n\u001b[1;32m---> 98\u001b[0m obj \u001b[39m=\u001b[39m default_load_str_bytes(\n\u001b[0;32m     99\u001b[0m     b,\n\u001b[0;32m    100\u001b[0m     proto\u001b[39m=\u001b[39;49mproto,\n\u001b[0;32m    101\u001b[0m     content_type\u001b[39m=\u001b[39;49mcontent_type,\n\u001b[0;32m    102\u001b[0m     encoding\u001b[39m=\u001b[39;49mencoding,\n\u001b[0;32m    103\u001b[0m     allow_pickle\u001b[39m=\u001b[39;49mallow_pickle,\n\u001b[0;32m    104\u001b[0m     json_loads\u001b[39m=\u001b[39;49mjson_loads,\n\u001b[0;32m    105\u001b[0m )\n\u001b[0;32m    106\u001b[0m \u001b[39mreturn\u001b[39;00m obj\n",
      "File \u001b[1;32m~\\AppData\\Local\\pypoetry\\Cache\\virtualenvs\\fhih-NkzppR2Z-py3.11\\Lib\\site-packages\\pydantic\\parse.py:37\u001b[0m, in \u001b[0;36mpydantic.parse.load_str_bytes\u001b[1;34m()\u001b[0m\n",
      "File \u001b[1;32mC:\\Python311\\Lib\\json\\__init__.py:346\u001b[0m, in \u001b[0;36mloads\u001b[1;34m(s, cls, object_hook, parse_float, parse_int, parse_constant, object_pairs_hook, **kw)\u001b[0m\n\u001b[0;32m    343\u001b[0m \u001b[39mif\u001b[39;00m (\u001b[39mcls\u001b[39m \u001b[39mis\u001b[39;00m \u001b[39mNone\u001b[39;00m \u001b[39mand\u001b[39;00m object_hook \u001b[39mis\u001b[39;00m \u001b[39mNone\u001b[39;00m \u001b[39mand\u001b[39;00m\n\u001b[0;32m    344\u001b[0m         parse_int \u001b[39mis\u001b[39;00m \u001b[39mNone\u001b[39;00m \u001b[39mand\u001b[39;00m parse_float \u001b[39mis\u001b[39;00m \u001b[39mNone\u001b[39;00m \u001b[39mand\u001b[39;00m\n\u001b[0;32m    345\u001b[0m         parse_constant \u001b[39mis\u001b[39;00m \u001b[39mNone\u001b[39;00m \u001b[39mand\u001b[39;00m object_pairs_hook \u001b[39mis\u001b[39;00m \u001b[39mNone\u001b[39;00m \u001b[39mand\u001b[39;00m \u001b[39mnot\u001b[39;00m kw):\n\u001b[1;32m--> 346\u001b[0m     \u001b[39mreturn\u001b[39;00m _default_decoder\u001b[39m.\u001b[39;49mdecode(s)\n\u001b[0;32m    347\u001b[0m \u001b[39mif\u001b[39;00m \u001b[39mcls\u001b[39m \u001b[39mis\u001b[39;00m \u001b[39mNone\u001b[39;00m:\n",
      "File \u001b[1;32mC:\\Python311\\Lib\\json\\decoder.py:337\u001b[0m, in \u001b[0;36mJSONDecoder.decode\u001b[1;34m(self, s, _w)\u001b[0m\n\u001b[0;32m    333\u001b[0m \u001b[39m\u001b[39m\u001b[39m\"\"\"Return the Python representation of ``s`` (a ``str`` instance\u001b[39;00m\n\u001b[0;32m    334\u001b[0m \u001b[39mcontaining a JSON document).\u001b[39;00m\n\u001b[0;32m    335\u001b[0m \n\u001b[0;32m    336\u001b[0m \u001b[39m\"\"\"\u001b[39;00m\n\u001b[1;32m--> 337\u001b[0m obj, end \u001b[39m=\u001b[39m \u001b[39mself\u001b[39;49m\u001b[39m.\u001b[39;49mraw_decode(s, idx\u001b[39m=\u001b[39;49m_w(s, \u001b[39m0\u001b[39;49m)\u001b[39m.\u001b[39;49mend())\n\u001b[0;32m    338\u001b[0m end \u001b[39m=\u001b[39m _w(s, end)\u001b[39m.\u001b[39mend()\n",
      "File \u001b[1;32mC:\\Python311\\Lib\\json\\decoder.py:355\u001b[0m, in \u001b[0;36mJSONDecoder.raw_decode\u001b[1;34m(self, s, idx)\u001b[0m\n\u001b[0;32m    354\u001b[0m \u001b[39mexcept\u001b[39;00m \u001b[39mStopIteration\u001b[39;00m \u001b[39mas\u001b[39;00m err:\n\u001b[1;32m--> 355\u001b[0m     \u001b[39mraise\u001b[39;00m JSONDecodeError(\u001b[39m\"\u001b[39m\u001b[39mExpecting value\u001b[39m\u001b[39m\"\u001b[39m, s, err\u001b[39m.\u001b[39mvalue) \u001b[39mfrom\u001b[39;00m \u001b[39mNone\u001b[39;00m\n\u001b[0;32m    356\u001b[0m \u001b[39mreturn\u001b[39;00m obj, end\n",
      "\u001b[1;31mJSONDecodeError\u001b[0m: Expecting value: line 1 column 1 (char 0)",
      "\nDuring handling of the above exception, another exception occurred:\n",
      "\u001b[1;31mValidationError\u001b[0m                           Traceback (most recent call last)",
      "\u001b[1;32mc:\\Users\\ShaneShort\\Documents\\fhih_learning\\fhih-sandbox\\src\\sandbox.ipynb Cell 17\u001b[0m line \u001b[0;36m5\n\u001b[0;32m      <a href='vscode-notebook-cell:/c%3A/Users/ShaneShort/Documents/fhih_learning/fhih-sandbox/src/sandbox.ipynb#X41sZmlsZQ%3D%3D?line=0'>1</a>\u001b[0m \u001b[39mfrom\u001b[39;00m \u001b[39mfhir\u001b[39;00m\u001b[39m.\u001b[39;00m\u001b[39mresources\u001b[39;00m\u001b[39m.\u001b[39;00m\u001b[39mpatient\u001b[39;00m \u001b[39mimport\u001b[39;00m Patient\n\u001b[0;32m      <a href='vscode-notebook-cell:/c%3A/Users/ShaneShort/Documents/fhih_learning/fhih-sandbox/src/sandbox.ipynb#X41sZmlsZQ%3D%3D?line=3'>4</a>\u001b[0m file_path \u001b[39m=\u001b[39m \u001b[39m'\u001b[39m\u001b[39m../data/patient_details.fhir.json\u001b[39m\u001b[39m'\u001b[39m\n\u001b[1;32m----> <a href='vscode-notebook-cell:/c%3A/Users/ShaneShort/Documents/fhih_learning/fhih-sandbox/src/sandbox.ipynb#X41sZmlsZQ%3D%3D?line=4'>5</a>\u001b[0m my_patient \u001b[39m=\u001b[39m Patient\u001b[39m.\u001b[39;49mparse_raw(file_path)\n\u001b[0;32m      <a href='vscode-notebook-cell:/c%3A/Users/ShaneShort/Documents/fhih_learning/fhih-sandbox/src/sandbox.ipynb#X41sZmlsZQ%3D%3D?line=6'>7</a>\u001b[0m \u001b[39mprint\u001b[39m(\u001b[39mf\u001b[39m\u001b[39m'\u001b[39m\u001b[39mmy_patient: \u001b[39m\u001b[39m{\u001b[39;00m(my_patient)\u001b[39m}\u001b[39;00m\u001b[39m'\u001b[39m)\n",
      "File \u001b[1;32m~\\AppData\\Local\\pypoetry\\Cache\\virtualenvs\\fhih-NkzppR2Z-py3.11\\Lib\\site-packages\\fhir\\resources\\core\\fhirabstractmodel.py:268\u001b[0m, in \u001b[0;36mFHIRAbstractModel.parse_raw\u001b[1;34m(cls, b, content_type, encoding, proto, allow_pickle, **extra)\u001b[0m\n\u001b[0;32m    258\u001b[0m     obj \u001b[39m=\u001b[39m load_str_bytes(\n\u001b[0;32m    259\u001b[0m         b,\n\u001b[0;32m    260\u001b[0m         proto\u001b[39m=\u001b[39mproto,\n\u001b[1;32m   (...)\u001b[0m\n\u001b[0;32m    265\u001b[0m         \u001b[39m*\u001b[39m\u001b[39m*\u001b[39mextra,\n\u001b[0;32m    266\u001b[0m     )\n\u001b[0;32m    267\u001b[0m \u001b[39mexcept\u001b[39;00m (\u001b[39mValueError\u001b[39;00m, \u001b[39mTypeError\u001b[39;00m, \u001b[39mUnicodeDecodeError\u001b[39;00m) \u001b[39mas\u001b[39;00m e:  \u001b[39m# noqa: B014\u001b[39;00m\n\u001b[1;32m--> 268\u001b[0m     \u001b[39mraise\u001b[39;00m ValidationError([ErrorWrapper(e, loc\u001b[39m=\u001b[39mROOT_KEY)], \u001b[39mcls\u001b[39m)\n\u001b[0;32m    269\u001b[0m \u001b[39mreturn\u001b[39;00m \u001b[39mcls\u001b[39m\u001b[39m.\u001b[39mparse_obj(obj)\n",
      "\u001b[1;31mValidationError\u001b[0m: 1 validation error for Patient\n__root__\n  Expecting value: line 1 column 1 (char 0) (type=value_error.jsondecode; msg=Expecting value; doc=../data/patient_details.fhir.json; pos=0; lineno=1; colno=1)"
     ]
    }
   ],
   "source": [
    "from fhir.resources.patient import Patient\n",
    "\n",
    "\n",
    "file_path = '../data/patient_details.fhir.json'\n",
    "my_patient = Patient.parse_raw(file_path)\n",
    "\n",
    "print(f'my_patient: {(my_patient)}')\n"
   ]
  },
  {
   "cell_type": "markdown",
   "metadata": {},
   "source": [
    "Nah that aint it. This loads data from a raw string. Not what I want. We want the json method. See here \n",
    "\n",
    "```python\n",
    "\n",
    "    def json(  # type: ignore\n",
    "        self,\n",
    "        *,\n",
    "        by_alias: bool = None,\n",
    "        exclude_none: bool = None,\n",
    "        exclude_comments: bool = False,\n",
    "        encoder: typing.Optional[typing.Callable[[typing.Any], typing.Any]] = None,\n",
    "        return_bytes: bool = False,\n",
    "        **dumps_kwargs: typing.Any,\n",
    "    ) -> typing.Union[str, bytes]:\n",
    "        \"\"\"Fully overridden method but codes are copied from BaseMode and business logic added\n",
    "        in according to support ``fhir_comments``filter and other FHIR specific requirments.\n",
    "        \"\"\"\n",
    "        if by_alias is None:\n",
    "            by_alias = True\n",
    "\n",
    "        if exclude_none is None:\n",
    "            exclude_none = True\n",
    "\n",
    "        if (\n",
    "            getattr(self.__config__.json_dumps, \"__qualname__\", \"\")\n",
    "            == \"orjson_json_dumps\"\n",
    "        ):\n",
    "            option = dumps_kwargs.pop(\"option\", 0)\n",
    "            if option == 0:\n",
    "                if \"indent\" in dumps_kwargs:\n",
    "                    dumps_kwargs.pop(\"indent\")\n",
    "                    # only indent 2 is accepted\n",
    "                    option |= orjson.OPT_INDENT_2\n",
    "\n",
    "                sort_keys = dumps_kwargs.pop(\"sort_keys\", False)\n",
    "                if sort_keys:\n",
    "                    option |= orjson.OPT_SORT_KEYS\n",
    "\n",
    "            if len(dumps_kwargs) > 0:\n",
    "                logger.debug(\n",
    "                    \"When ``dumps`` method is used from ``orjson`` \"\n",
    "                    \"all dumps kwargs are ignored except `indent`, `sort_keys` \"\n",
    "                    \"and of course ``option`` from orjson\"\n",
    "                )\n",
    "                dumps_kwargs = {}\n",
    "\n",
    "            if option > 0:\n",
    "                dumps_kwargs[\"option\"] = option\n",
    "\n",
    "            dumps_kwargs[\"return_bytes\"] = return_bytes\n",
    "\n",
    "        data = self.dict(\n",
    "            by_alias=by_alias,\n",
    "            exclude_none=exclude_none,\n",
    "            exclude_comments=exclude_comments,\n",
    "        )\n",
    "        if self.__custom_root_type__:\n",
    "            data = data[ROOT_KEY]\n",
    "\n",
    "        encoder = typing.cast(\n",
    "            typing.Callable[[typing.Any], typing.Any], encoder or self.__json_encoder__\n",
    "        )\n",
    "\n",
    "        if typing.TYPE_CHECKING:\n",
    "            result: typing.Union[str, bytes]\n",
    "\n",
    "        result = self.__config__.json_dumps(data, default=encoder, **dumps_kwargs)\n",
    "\n",
    "        if return_bytes is True:\n",
    "            if isinstance(result, str):\n",
    "                result = result.encode(\"utf-8\", errors=\"strict\")\n",
    "        else:\n",
    "            if isinstance(result, bytes):\n",
    "                result = result.decode()\n",
    "\n",
    "        return result```"
   ]
  },
  {
   "cell_type": "code",
   "execution_count": 59,
   "metadata": {},
   "outputs": [
    {
     "name": "stdout",
     "output_type": "stream",
     "text": [
      "my_patient: resource_type='Address' fhir_comments=None extension=None id=None city='Fremantle' city__ext=None country='Australia' country__ext=None district=None district__ext=None line=['Unit 13, 1 High Street'] line__ext=None period=None postalCode='6160' postalCode__ext=None state='Western Australia' state__ext=None text=None text__ext=None type='both' type__ext=None use='home' use__ext=None\n"
     ]
    },
    {
     "data": {
      "text/plain": [
       "'{\"resourceType\": \"Patient\", \"name\": [{\"use\": \"official\", \"family\": \"Short\", \"given\": [\"Shane\", \"Anthony\"]}], \"telecom\": [{\"system\": \"phone\", \"value\": \"0473519400\", \"use\": \"mobile\"}, {\"system\": \"phone\", \"value\": \"+353851784179\", \"use\": \"old\"}, {\"system\": \"email\", \"value\": \"shane.short5@gmail.com\"}], \"gender\": \"male\", \"birthDate\": \"1996-07-24\", \"address\": [{\"use\": \"home\", \"type\": \"both\", \"line\": [\"Unit 13, 1 High Street\"], \"city\": \"Fremantle\", \"state\": \"Western Australia\", \"postalCode\": \"6160\", \"country\": \"Australia\"}]}'"
      ]
     },
     "execution_count": 59,
     "metadata": {},
     "output_type": "execute_result"
    }
   ],
   "source": [
    "from fhir.resources.patient import Patient\n",
    "\n",
    "\n",
    "file_path = '../data/patient_details.fhir.json'\n",
    "my_patient = Patient.parse_file(file_path)\n",
    "\n",
    "\n",
    "print(f'my_patient: {(my_patient.address[0])}')\n",
    "my_patient.json()"
   ]
  },
  {
   "cell_type": "markdown",
   "metadata": {},
   "source": [
    "We can then query records in the usual way "
   ]
  },
  {
   "cell_type": "code",
   "execution_count": 69,
   "metadata": {},
   "outputs": [
    {
     "name": "stdout",
     "output_type": "stream",
     "text": [
      "my patient name: [{'use': 'official', 'family': 'Short', 'given': ['Shane', 'Anthony']}]\n"
     ]
    }
   ],
   "source": [
    "from fhir.resources.patient import Patient\n",
    "\n",
    "\n",
    "file_path = '../data/patient_details.fhir.json'\n",
    "my_patient = Patient.parse_file(file_path)\n",
    "\n",
    "\n",
    "print(f'my patient name: {json.loads(my_patient.json())[\"name\"]}')"
   ]
  },
  {
   "cell_type": "markdown",
   "metadata": {},
   "source": [
    "cool"
   ]
  },
  {
   "cell_type": "markdown",
   "metadata": {},
   "source": [
    "### data validations maybe?"
   ]
  },
  {
   "cell_type": "markdown",
   "metadata": {},
   "source": [
    "fhir.resources will handle some checks automatically"
   ]
  },
  {
   "cell_type": "code",
   "execution_count": 70,
   "metadata": {},
   "outputs": [
    {
     "ename": "ValidationError",
     "evalue": "1 validation error for Patient\nbirthDate\n  invalid date format (type=value_error.date)",
     "output_type": "error",
     "traceback": [
      "\u001b[1;31m---------------------------------------------------------------------------\u001b[0m",
      "\u001b[1;31mValidationError\u001b[0m                           Traceback (most recent call last)",
      "\u001b[1;32mc:\\Users\\ShaneShort\\Documents\\fhih_learning\\fhih-sandbox\\src\\sandbox.ipynb Cell 24\u001b[0m line \u001b[0;36m1\n\u001b[0;32m      <a href='vscode-notebook-cell:/c%3A/Users/ShaneShort/Documents/fhih_learning/fhih-sandbox/src/sandbox.ipynb#X56sZmlsZQ%3D%3D?line=6'>7</a>\u001b[0m John_Doe\u001b[39m.\u001b[39mname \u001b[39m=\u001b[39m [{\n\u001b[0;32m      <a href='vscode-notebook-cell:/c%3A/Users/ShaneShort/Documents/fhih_learning/fhih-sandbox/src/sandbox.ipynb#X56sZmlsZQ%3D%3D?line=7'>8</a>\u001b[0m     \u001b[39m\"\u001b[39m\u001b[39mgiven\u001b[39m\u001b[39m\"\u001b[39m: [\u001b[39m\"\u001b[39m\u001b[39mJohn\u001b[39m\u001b[39m\"\u001b[39m],\n\u001b[0;32m      <a href='vscode-notebook-cell:/c%3A/Users/ShaneShort/Documents/fhih_learning/fhih-sandbox/src/sandbox.ipynb#X56sZmlsZQ%3D%3D?line=8'>9</a>\u001b[0m     \u001b[39m\"\u001b[39m\u001b[39mfamily\u001b[39m\u001b[39m\"\u001b[39m: \u001b[39m\"\u001b[39m\u001b[39mDoe\u001b[39m\u001b[39m\"\u001b[39m\n\u001b[0;32m     <a href='vscode-notebook-cell:/c%3A/Users/ShaneShort/Documents/fhih_learning/fhih-sandbox/src/sandbox.ipynb#X56sZmlsZQ%3D%3D?line=9'>10</a>\u001b[0m }]\n\u001b[0;32m     <a href='vscode-notebook-cell:/c%3A/Users/ShaneShort/Documents/fhih_learning/fhih-sandbox/src/sandbox.ipynb#X56sZmlsZQ%3D%3D?line=11'>12</a>\u001b[0m \u001b[39m# Set the patient's date of birth\u001b[39;00m\n\u001b[1;32m---> <a href='vscode-notebook-cell:/c%3A/Users/ShaneShort/Documents/fhih_learning/fhih-sandbox/src/sandbox.ipynb#X56sZmlsZQ%3D%3D?line=12'>13</a>\u001b[0m John_Doe\u001b[39m.\u001b[39;49mbirthDate \u001b[39m=\u001b[39m \u001b[39m\"\u001b[39m\u001b[39m1990-01-99\u001b[39m\u001b[39m\"\u001b[39m\n\u001b[0;32m     <a href='vscode-notebook-cell:/c%3A/Users/ShaneShort/Documents/fhih_learning/fhih-sandbox/src/sandbox.ipynb#X56sZmlsZQ%3D%3D?line=14'>15</a>\u001b[0m \u001b[39m# Set the patient's gender\u001b[39;00m\n\u001b[0;32m     <a href='vscode-notebook-cell:/c%3A/Users/ShaneShort/Documents/fhih_learning/fhih-sandbox/src/sandbox.ipynb#X56sZmlsZQ%3D%3D?line=15'>16</a>\u001b[0m John_Doe\u001b[39m.\u001b[39mgender \u001b[39m=\u001b[39m \u001b[39m\"\u001b[39m\u001b[39mmale\u001b[39m\u001b[39m\"\u001b[39m\n",
      "File \u001b[1;32m~\\AppData\\Local\\pypoetry\\Cache\\virtualenvs\\fhih-NkzppR2Z-py3.11\\Lib\\site-packages\\pydantic\\main.py:384\u001b[0m, in \u001b[0;36mpydantic.main.BaseModel.__setattr__\u001b[1;34m()\u001b[0m\n",
      "\u001b[1;31mValidationError\u001b[0m: 1 validation error for Patient\nbirthDate\n  invalid date format (type=value_error.date)"
     ]
    }
   ],
   "source": [
    "from fhir.resources.patient import Patient\n",
    "\n",
    "# Create a new Patient resource\n",
    "John_Doe = Patient()\n",
    "\n",
    "# Set the patient's name\n",
    "John_Doe.name = [{\n",
    "    \"given\": [\"John\"],\n",
    "    \"family\": \"Doe\"\n",
    "}]\n",
    "\n",
    "# Set the patient's date of birth\n",
    "John_Doe.birthDate = \"1990-01-99\"\n",
    "\n",
    "# Set the patient's gender\n",
    "John_Doe.gender = \"male\"\n",
    "\n",
    "# Set the patient's address\n",
    "John_Doe.address = [{\n",
    "    \"line\": [\"1234 Main St\"],\n",
    "    \"city\": \"Anytown\",\n",
    "    \"state\": \"CA\",\n",
    "    \"postalCode\": \"12345\"\n",
    "}]\n"
   ]
  },
  {
   "cell_type": "markdown",
   "metadata": {},
   "source": [
    "We can also validate existing fhir resources"
   ]
  },
  {
   "cell_type": "code",
   "execution_count": 83,
   "metadata": {},
   "outputs": [
    {
     "ename": "ValidationError",
     "evalue": "1 validation error for Patient\nbirthDate\n  invalid date format (type=value_error.date)",
     "output_type": "error",
     "traceback": [
      "\u001b[1;31m---------------------------------------------------------------------------\u001b[0m",
      "\u001b[1;31mValidationError\u001b[0m                           Traceback (most recent call last)",
      "\u001b[1;32mc:\\Users\\ShaneShort\\Documents\\fhih_learning\\fhih-sandbox\\src\\sandbox.ipynb Cell 28\u001b[0m line \u001b[0;36m5\n\u001b[0;32m      <a href='vscode-notebook-cell:/c%3A/Users/ShaneShort/Documents/fhih_learning/fhih-sandbox/src/sandbox.ipynb#X65sZmlsZQ%3D%3D?line=0'>1</a>\u001b[0m \u001b[39mfrom\u001b[39;00m \u001b[39mfhir\u001b[39;00m\u001b[39m.\u001b[39;00m\u001b[39mresources\u001b[39;00m\u001b[39m.\u001b[39;00m\u001b[39mpatient\u001b[39;00m \u001b[39mimport\u001b[39;00m Patient\n\u001b[0;32m      <a href='vscode-notebook-cell:/c%3A/Users/ShaneShort/Documents/fhih_learning/fhih-sandbox/src/sandbox.ipynb#X65sZmlsZQ%3D%3D?line=3'>4</a>\u001b[0m file_path \u001b[39m=\u001b[39m \u001b[39m'\u001b[39m\u001b[39m../data/patient_details.fhir.json\u001b[39m\u001b[39m'\u001b[39m\n\u001b[1;32m----> <a href='vscode-notebook-cell:/c%3A/Users/ShaneShort/Documents/fhih_learning/fhih-sandbox/src/sandbox.ipynb#X65sZmlsZQ%3D%3D?line=4'>5</a>\u001b[0m my_patient \u001b[39m=\u001b[39m Patient\u001b[39m.\u001b[39;49mparse_file(file_path)\n\u001b[0;32m      <a href='vscode-notebook-cell:/c%3A/Users/ShaneShort/Documents/fhih_learning/fhih-sandbox/src/sandbox.ipynb#X65sZmlsZQ%3D%3D?line=7'>8</a>\u001b[0m \u001b[39mprint\u001b[39m(\u001b[39mf\u001b[39m\u001b[39m'\u001b[39m\u001b[39mmy patient name: \u001b[39m\u001b[39m{\u001b[39;00mjson\u001b[39m.\u001b[39mloads(my_patient\u001b[39m.\u001b[39mjson())[\u001b[39m\"\u001b[39m\u001b[39mname\u001b[39m\u001b[39m\"\u001b[39m]\u001b[39m}\u001b[39;00m\u001b[39m'\u001b[39m)\n",
      "File \u001b[1;32m~\\AppData\\Local\\pypoetry\\Cache\\virtualenvs\\fhih-NkzppR2Z-py3.11\\Lib\\site-packages\\fhir\\resources\\core\\fhirabstractmodel.py:243\u001b[0m, in \u001b[0;36mFHIRAbstractModel.parse_file\u001b[1;34m(cls, path, content_type, encoding, proto, allow_pickle, **extra)\u001b[0m\n\u001b[0;32m    233\u001b[0m extra\u001b[39m.\u001b[39mupdate({\u001b[39m\"\u001b[39m\u001b[39mcls\u001b[39m\u001b[39m\"\u001b[39m: \u001b[39mcls\u001b[39m})\n\u001b[0;32m    234\u001b[0m obj \u001b[39m=\u001b[39m load_file(\n\u001b[0;32m    235\u001b[0m     path,\n\u001b[0;32m    236\u001b[0m     proto\u001b[39m=\u001b[39mproto,\n\u001b[1;32m   (...)\u001b[0m\n\u001b[0;32m    241\u001b[0m     \u001b[39m*\u001b[39m\u001b[39m*\u001b[39mextra,\n\u001b[0;32m    242\u001b[0m )\n\u001b[1;32m--> 243\u001b[0m \u001b[39mreturn\u001b[39;00m \u001b[39mcls\u001b[39;49m\u001b[39m.\u001b[39;49mparse_obj(obj)\n",
      "File \u001b[1;32m~\\AppData\\Local\\pypoetry\\Cache\\virtualenvs\\fhih-NkzppR2Z-py3.11\\Lib\\site-packages\\pydantic\\main.py:526\u001b[0m, in \u001b[0;36mpydantic.main.BaseModel.parse_obj\u001b[1;34m()\u001b[0m\n",
      "File \u001b[1;32m~\\AppData\\Local\\pypoetry\\Cache\\virtualenvs\\fhih-NkzppR2Z-py3.11\\Lib\\site-packages\\fhir\\resources\\core\\fhirabstractmodel.py:105\u001b[0m, in \u001b[0;36mFHIRAbstractModel.__init__\u001b[1;34m(__pydantic_self__, **data)\u001b[0m\n\u001b[0;32m    102\u001b[0m \u001b[39mif\u001b[39;00m errors:\n\u001b[0;32m    103\u001b[0m     \u001b[39mraise\u001b[39;00m ValidationError(errors, __pydantic_self__\u001b[39m.\u001b[39m\u001b[39m__class__\u001b[39m)\n\u001b[1;32m--> 105\u001b[0m BaseModel\u001b[39m.\u001b[39;49m\u001b[39m__init__\u001b[39;49m(__pydantic_self__, \u001b[39m*\u001b[39;49m\u001b[39m*\u001b[39;49mdata)\n",
      "File \u001b[1;32m~\\AppData\\Local\\pypoetry\\Cache\\virtualenvs\\fhih-NkzppR2Z-py3.11\\Lib\\site-packages\\pydantic\\main.py:341\u001b[0m, in \u001b[0;36mpydantic.main.BaseModel.__init__\u001b[1;34m()\u001b[0m\n",
      "\u001b[1;31mValidationError\u001b[0m: 1 validation error for Patient\nbirthDate\n  invalid date format (type=value_error.date)"
     ]
    }
   ],
   "source": [
    "from fhir.resources.patient import Patient\n",
    "\n",
    "\n",
    "file_path = '../data/patient_details.fhir.json'\n",
    "my_patient = Patient.parse_file(file_path)\n",
    "\n",
    "\n",
    "print(f'my patient name: {json.loads(my_patient.json())[\"name\"]}')\n",
    "\n"
   ]
  },
  {
   "cell_type": "markdown",
   "metadata": {},
   "source": [
    "## `fhirclient` for accessing FHIR servers "
   ]
  },
  {
   "cell_type": "code",
   "execution_count": 148,
   "metadata": {},
   "outputs": [],
   "source": [
    "from fhirclient import client\n",
    "from fhirclient.models import patient\n"
   ]
  },
  {
   "cell_type": "code",
   "execution_count": 147,
   "metadata": {},
   "outputs": [],
   "source": [
    "settings = {\n",
    "    'app_id': '12345',\n",
    "    'api_base': base_url\n",
    "}\n",
    "\n",
    "smart = client.FHIRClient(settings=settings)\n"
   ]
  },
  {
   "cell_type": "code",
   "execution_count": 149,
   "metadata": {},
   "outputs": [
    {
     "name": "stdout",
     "output_type": "stream",
     "text": [
      "result: {'resourceType': 'Patient', 'id': '33485374', 'meta': {'versionId': '1', 'lastUpdated': '2023-11-06T09:25:52.938+00:00', 'source': '#L6irogLHmCDwSKWb'}, 'text': {'status': 'generated', 'div': '<div xmlns=\"http://www.w3.org/1999/xhtml\"><div class=\"hapiHeaderText\">John <b>DOE </b></div><table class=\"hapiPropertyTable\"><tbody></tbody></table></div>'}, 'name': [{'family': 'Doe', 'given': ['John']}]}\n",
      "result keys: dict_keys(['resourceType', 'id', 'meta', 'text', 'name'])\n",
      "result keys: {'versionId': '1', 'lastUpdated': '2023-11-06T09:25:52.938+00:00', 'source': '#L6irogLHmCDwSKWb'}\n",
      "result keys: generated\n",
      "Patient created successfully!\n"
     ]
    }
   ],
   "source": [
    "from fhirclient.models.patient import Patient\n",
    "from fhirclient.models.humanname import HumanName\n",
    "\n",
    "new_patient = Patient()\n",
    "\n",
    "# Create a HumanName object and assign it to the name attribute\n",
    "name = HumanName()\n",
    "name.given = ['John']\n",
    "name.family = 'Doe'\n",
    "\n",
    "new_patient.name = [name]  # Assign the created HumanName object to the name attribute\n",
    "\n",
    "# Save the patient to the FHIR server\n",
    "result = new_patient.create(smart.server)\n",
    "\n",
    "print(f'result: {result}')\n",
    "print(f'result keys: {result.keys()}')\n",
    "print(f'result keys: {result[\"meta\"]}')\n",
    "print(f'result keys: {result[\"text\"][\"status\"]}')\n",
    "\n",
    "if result[\"text\"][\"status\"] == 'generated':\n",
    "    print(\"Patient created successfully!\")\n"
   ]
  },
  {
   "cell_type": "code",
   "execution_count": 150,
   "metadata": {},
   "outputs": [
    {
     "name": "stdout",
     "output_type": "stream",
     "text": [
      "John Doe\n"
     ]
    }
   ],
   "source": [
    "import fhirclient.models.patient as p\n",
    "\n",
    "patient = p.Patient.read('33484854', smart.server)\n",
    "print(smart.human_name(patient.name[0]))"
   ]
  },
  {
   "cell_type": "markdown",
   "metadata": {},
   "source": [
    "### `fhirclient` and `fhir.resources`"
   ]
  },
  {
   "cell_type": "markdown",
   "metadata": {},
   "source": [
    "Let's try using these two libs together `fhir.resources` and `fhirclient`"
   ]
  },
  {
   "cell_type": "code",
   "execution_count": 133,
   "metadata": {},
   "outputs": [
    {
     "name": "stdout",
     "output_type": "stream",
     "text": [
      "my patient name: [{'use': 'official', 'family': 'Short', 'given': ['Shane', 'Anthony']}]\n",
      "my patient name: [{'use': 'home', 'type': 'both', 'line': ['Unit 1, 2 Fleet Street'], 'city': 'Townville', 'state': 'Ontario', 'postalCode': '1234', 'country': 'Canada'}]\n"
     ]
    },
    {
     "ename": "AttributeError",
     "evalue": "'Patient' object has no attribute 'create'",
     "output_type": "error",
     "traceback": [
      "\u001b[1;31m---------------------------------------------------------------------------\u001b[0m",
      "\u001b[1;31mAttributeError\u001b[0m                            Traceback (most recent call last)",
      "\u001b[1;32mc:\\Users\\ShaneShort\\Documents\\fhih_learning\\fhih-sandbox\\src\\sandbox.ipynb Cell 34\u001b[0m line \u001b[0;36m1\n\u001b[0;32m      <a href='vscode-notebook-cell:/c%3A/Users/ShaneShort/Documents/fhih_learning/fhih-sandbox/src/sandbox.ipynb#Y115sZmlsZQ%3D%3D?line=8'>9</a>\u001b[0m \u001b[39mprint\u001b[39m(\u001b[39mf\u001b[39m\u001b[39m'\u001b[39m\u001b[39mmy patient name: \u001b[39m\u001b[39m{\u001b[39;00mjson\u001b[39m.\u001b[39mloads(my_patient\u001b[39m.\u001b[39mjson())[\u001b[39m\"\u001b[39m\u001b[39maddress\u001b[39m\u001b[39m\"\u001b[39m]\u001b[39m}\u001b[39;00m\u001b[39m'\u001b[39m)\n\u001b[0;32m     <a href='vscode-notebook-cell:/c%3A/Users/ShaneShort/Documents/fhih_learning/fhih-sandbox/src/sandbox.ipynb#Y115sZmlsZQ%3D%3D?line=10'>11</a>\u001b[0m \u001b[39m# new_patient = patient.Patient()\u001b[39;00m\n\u001b[0;32m     <a href='vscode-notebook-cell:/c%3A/Users/ShaneShort/Documents/fhih_learning/fhih-sandbox/src/sandbox.ipynb#Y115sZmlsZQ%3D%3D?line=11'>12</a>\u001b[0m \n\u001b[0;32m     <a href='vscode-notebook-cell:/c%3A/Users/ShaneShort/Documents/fhih_learning/fhih-sandbox/src/sandbox.ipynb#Y115sZmlsZQ%3D%3D?line=12'>13</a>\u001b[0m \u001b[39m# Set patient attributes\u001b[39;00m\n\u001b[1;32m   (...)\u001b[0m\n\u001b[0;32m     <a href='vscode-notebook-cell:/c%3A/Users/ShaneShort/Documents/fhih_learning/fhih-sandbox/src/sandbox.ipynb#Y115sZmlsZQ%3D%3D?line=15'>16</a>\u001b[0m \n\u001b[0;32m     <a href='vscode-notebook-cell:/c%3A/Users/ShaneShort/Documents/fhih_learning/fhih-sandbox/src/sandbox.ipynb#Y115sZmlsZQ%3D%3D?line=16'>17</a>\u001b[0m \u001b[39m# Save the patient to the FHIR server\u001b[39;00m\n\u001b[1;32m---> <a href='vscode-notebook-cell:/c%3A/Users/ShaneShort/Documents/fhih_learning/fhih-sandbox/src/sandbox.ipynb#Y115sZmlsZQ%3D%3D?line=17'>18</a>\u001b[0m result \u001b[39m=\u001b[39m my_patient\u001b[39m.\u001b[39;49mcreate(smart\u001b[39m.\u001b[39mserver)\n\u001b[0;32m     <a href='vscode-notebook-cell:/c%3A/Users/ShaneShort/Documents/fhih_learning/fhih-sandbox/src/sandbox.ipynb#Y115sZmlsZQ%3D%3D?line=19'>20</a>\u001b[0m \u001b[39mif\u001b[39;00m result[\u001b[39m'\u001b[39m\u001b[39mstatus_code\u001b[39m\u001b[39m'\u001b[39m] \u001b[39m==\u001b[39m \u001b[39m201\u001b[39m:\n\u001b[0;32m     <a href='vscode-notebook-cell:/c%3A/Users/ShaneShort/Documents/fhih_learning/fhih-sandbox/src/sandbox.ipynb#Y115sZmlsZQ%3D%3D?line=20'>21</a>\u001b[0m     \u001b[39mprint\u001b[39m(\u001b[39m\"\u001b[39m\u001b[39mPatient created successfully!\u001b[39m\u001b[39m\"\u001b[39m)\n",
      "\u001b[1;31mAttributeError\u001b[0m: 'Patient' object has no attribute 'create'"
     ]
    }
   ],
   "source": [
    "from fhir.resources.patient import Patient\n",
    "\n",
    "\n",
    "file_path = '../data/patient_details.fhir.json'\n",
    "my_patient = Patient.parse_file(file_path)\n",
    "\n",
    "\n",
    "print(f'my patient name: {json.loads(my_patient.json())[\"name\"]}')\n",
    "print(f'my patient name: {json.loads(my_patient.json())[\"address\"]}')\n",
    "\n",
    "# new_patient = patient.Patient()\n",
    "\n",
    "# Set patient attributes\n",
    "# new_patient.name = [{'given': ['John'], 'family': 'Doe'}]\n",
    "# new_patient.gender = 'male'\n",
    "\n",
    "# Save the patient to the FHIR server\n",
    "result = my_patient.create(smart.server)\n",
    "\n",
    "if result['status_code'] == 201:\n",
    "    print(\"Patient created successfully!\")\n",
    "else:\n",
    "    print(\"Error creating patient:\", result['response'])\n"
   ]
  },
  {
   "cell_type": "code",
   "execution_count": 141,
   "metadata": {},
   "outputs": [
    {
     "ename": "AttributeError",
     "evalue": "'Patient' object has no attribute 'create'",
     "output_type": "error",
     "traceback": [
      "\u001b[1;31m---------------------------------------------------------------------------\u001b[0m",
      "\u001b[1;31mAttributeError\u001b[0m                            Traceback (most recent call last)",
      "\u001b[1;32mc:\\Users\\ShaneShort\\Documents\\fhih_learning\\fhih-sandbox\\src\\sandbox.ipynb Cell 35\u001b[0m line \u001b[0;36m2\n\u001b[0;32m     <a href='vscode-notebook-cell:/c%3A/Users/ShaneShort/Documents/fhih_learning/fhih-sandbox/src/sandbox.ipynb#Y122sZmlsZQ%3D%3D?line=14'>15</a>\u001b[0m smart \u001b[39m=\u001b[39m client\u001b[39m.\u001b[39mFHIRClient(settings\u001b[39m=\u001b[39msettings)\n\u001b[0;32m     <a href='vscode-notebook-cell:/c%3A/Users/ShaneShort/Documents/fhih_learning/fhih-sandbox/src/sandbox.ipynb#Y122sZmlsZQ%3D%3D?line=15'>16</a>\u001b[0m \u001b[39m# response = smart.create(my_patient)\u001b[39;00m\n\u001b[0;32m     <a href='vscode-notebook-cell:/c%3A/Users/ShaneShort/Documents/fhih_learning/fhih-sandbox/src/sandbox.ipynb#Y122sZmlsZQ%3D%3D?line=16'>17</a>\u001b[0m \n\u001b[0;32m     <a href='vscode-notebook-cell:/c%3A/Users/ShaneShort/Documents/fhih_learning/fhih-sandbox/src/sandbox.ipynb#Y122sZmlsZQ%3D%3D?line=17'>18</a>\u001b[0m \u001b[39m# # Check the response status\u001b[39;00m\n\u001b[1;32m   (...)\u001b[0m\n\u001b[0;32m     <a href='vscode-notebook-cell:/c%3A/Users/ShaneShort/Documents/fhih_learning/fhih-sandbox/src/sandbox.ipynb#Y122sZmlsZQ%3D%3D?line=22'>23</a>\u001b[0m \n\u001b[0;32m     <a href='vscode-notebook-cell:/c%3A/Users/ShaneShort/Documents/fhih_learning/fhih-sandbox/src/sandbox.ipynb#Y122sZmlsZQ%3D%3D?line=23'>24</a>\u001b[0m \u001b[39m# Save the patient to the FHIR server\u001b[39;00m\n\u001b[1;32m---> <a href='vscode-notebook-cell:/c%3A/Users/ShaneShort/Documents/fhih_learning/fhih-sandbox/src/sandbox.ipynb#Y122sZmlsZQ%3D%3D?line=24'>25</a>\u001b[0m result \u001b[39m=\u001b[39m my_patient\u001b[39m.\u001b[39;49mcreate(smart\u001b[39m.\u001b[39mserver)\n\u001b[0;32m     <a href='vscode-notebook-cell:/c%3A/Users/ShaneShort/Documents/fhih_learning/fhih-sandbox/src/sandbox.ipynb#Y122sZmlsZQ%3D%3D?line=26'>27</a>\u001b[0m \u001b[39mif\u001b[39;00m result[\u001b[39m'\u001b[39m\u001b[39mstatus_code\u001b[39m\u001b[39m'\u001b[39m] \u001b[39m==\u001b[39m \u001b[39m201\u001b[39m:\n\u001b[0;32m     <a href='vscode-notebook-cell:/c%3A/Users/ShaneShort/Documents/fhih_learning/fhih-sandbox/src/sandbox.ipynb#Y122sZmlsZQ%3D%3D?line=27'>28</a>\u001b[0m     \u001b[39mprint\u001b[39m(\u001b[39m\"\u001b[39m\u001b[39mPatient created successfully!\u001b[39m\u001b[39m\"\u001b[39m)\n",
      "\u001b[1;31mAttributeError\u001b[0m: 'Patient' object has no attribute 'create'"
     ]
    }
   ],
   "source": [
    "import json\n",
    "from fhir.resources.patient import Patient\n",
    "from fhirclient import client\n",
    "\n",
    "# Step 1: Read the JSON file\n",
    "file_path = '../data/patient_details.fhir.json'\n",
    "my_patient = Patient.parse_file(file_path)\n",
    "\n",
    "# Step 3: Create record in FHIR database using fhirclient\n",
    "settings = {\n",
    "    'app_id': '12345',\n",
    "    'api_base': base_url\n",
    "}\n",
    "\n",
    "smart = client.FHIRClient(settings=settings)\n",
    "# response = smart.create(my_patient)\n",
    "\n",
    "# # Check the response status\n",
    "# if response.status_code == 201:\n",
    "#     print(\"Patient record created successfully\")\n",
    "# else:\n",
    "#     print(f\"Failed to create patient record. Status code: {response.status_code}\")\n",
    "\n",
    "# Save the patient to the FHIR server\n",
    "result = my_patient.create(smart.server)\n",
    "\n",
    "if result['status_code'] == 201:\n",
    "    print(\"Patient created successfully!\")\n",
    "else:\n",
    "    print(\"Error creating patient:\", result['response'])\n",
    "\n"
   ]
  },
  {
   "cell_type": "code",
   "execution_count": 143,
   "metadata": {},
   "outputs": [
    {
     "ename": "FHIRValidationError",
     "evalue": "{root}:\n  name:\n    Expecting property \"name\" on <class 'fhirclient.models.patient.Patient'> to be <class 'fhirclient.models.humanname.HumanName'>, but is <class 'fhir.resources.humanname.HumanName'>",
     "output_type": "error",
     "traceback": [
      "\u001b[1;31m---------------------------------------------------------------------------\u001b[0m",
      "\u001b[1;31mFHIRValidationError\u001b[0m                       Traceback (most recent call last)",
      "\u001b[1;32mc:\\Users\\ShaneShort\\Documents\\fhih_learning\\fhih-sandbox\\src\\sandbox.ipynb Cell 36\u001b[0m line \u001b[0;36m1\n\u001b[0;32m     <a href='vscode-notebook-cell:/c%3A/Users/ShaneShort/Documents/fhih_learning/fhih-sandbox/src/sandbox.ipynb#Y123sZmlsZQ%3D%3D?line=13'>14</a>\u001b[0m fhir_client_patient_obj\u001b[39m.\u001b[39mname \u001b[39m=\u001b[39m resources_patient_obj\u001b[39m.\u001b[39mname\n\u001b[0;32m     <a href='vscode-notebook-cell:/c%3A/Users/ShaneShort/Documents/fhih_learning/fhih-sandbox/src/sandbox.ipynb#Y123sZmlsZQ%3D%3D?line=14'>15</a>\u001b[0m \u001b[39m# Assign other attributes as needed\u001b[39;00m\n\u001b[0;32m     <a href='vscode-notebook-cell:/c%3A/Users/ShaneShort/Documents/fhih_learning/fhih-sandbox/src/sandbox.ipynb#Y123sZmlsZQ%3D%3D?line=15'>16</a>\u001b[0m \n\u001b[0;32m     <a href='vscode-notebook-cell:/c%3A/Users/ShaneShort/Documents/fhih_learning/fhih-sandbox/src/sandbox.ipynb#Y123sZmlsZQ%3D%3D?line=16'>17</a>\u001b[0m \u001b[39m# Step 3: Save the patient to the FHIR server\u001b[39;00m\n\u001b[1;32m---> <a href='vscode-notebook-cell:/c%3A/Users/ShaneShort/Documents/fhih_learning/fhih-sandbox/src/sandbox.ipynb#Y123sZmlsZQ%3D%3D?line=17'>18</a>\u001b[0m response \u001b[39m=\u001b[39m fhir_client_patient_obj\u001b[39m.\u001b[39;49mcreate(smart\u001b[39m.\u001b[39;49mserver)\n\u001b[0;32m     <a href='vscode-notebook-cell:/c%3A/Users/ShaneShort/Documents/fhih_learning/fhih-sandbox/src/sandbox.ipynb#Y123sZmlsZQ%3D%3D?line=19'>20</a>\u001b[0m \u001b[39m# Check the response status\u001b[39;00m\n\u001b[0;32m     <a href='vscode-notebook-cell:/c%3A/Users/ShaneShort/Documents/fhih_learning/fhih-sandbox/src/sandbox.ipynb#Y123sZmlsZQ%3D%3D?line=20'>21</a>\u001b[0m \u001b[39mif\u001b[39;00m response\u001b[39m.\u001b[39mstatus_code \u001b[39m==\u001b[39m \u001b[39m201\u001b[39m:\n",
      "File \u001b[1;32m~\\AppData\\Local\\pypoetry\\Cache\\virtualenvs\\fhih-NkzppR2Z-py3.11\\Lib\\site-packages\\fhirclient\\models\\fhirabstractresource.py:127\u001b[0m, in \u001b[0;36mFHIRAbstractResource.create\u001b[1;34m(self, server)\u001b[0m\n\u001b[0;32m    124\u001b[0m \u001b[39mif\u001b[39;00m \u001b[39mself\u001b[39m\u001b[39m.\u001b[39mid:\n\u001b[0;32m    125\u001b[0m     \u001b[39mraise\u001b[39;00m \u001b[39mException\u001b[39;00m(\u001b[39m\"\u001b[39m\u001b[39mThis resource already has an id, cannot create\u001b[39m\u001b[39m\"\u001b[39m)\n\u001b[1;32m--> 127\u001b[0m ret \u001b[39m=\u001b[39m srv\u001b[39m.\u001b[39mpost_json(\u001b[39mself\u001b[39m\u001b[39m.\u001b[39mrelativeBase(), \u001b[39mself\u001b[39;49m\u001b[39m.\u001b[39;49mas_json())\n\u001b[0;32m    128\u001b[0m \u001b[39mif\u001b[39;00m \u001b[39mlen\u001b[39m(ret\u001b[39m.\u001b[39mtext) \u001b[39m>\u001b[39m \u001b[39m0\u001b[39m:\n\u001b[0;32m    129\u001b[0m     \u001b[39mreturn\u001b[39;00m ret\u001b[39m.\u001b[39mjson()\n",
      "File \u001b[1;32m~\\AppData\\Local\\pypoetry\\Cache\\virtualenvs\\fhih-NkzppR2Z-py3.11\\Lib\\site-packages\\fhirclient\\models\\fhirabstractresource.py:42\u001b[0m, in \u001b[0;36mFHIRAbstractResource.as_json\u001b[1;34m(self)\u001b[0m\n\u001b[0;32m     41\u001b[0m \u001b[39mdef\u001b[39;00m \u001b[39mas_json\u001b[39m(\u001b[39mself\u001b[39m):\n\u001b[1;32m---> 42\u001b[0m     js \u001b[39m=\u001b[39m \u001b[39msuper\u001b[39;49m(FHIRAbstractResource, \u001b[39mself\u001b[39;49m)\u001b[39m.\u001b[39;49mas_json()\n\u001b[0;32m     43\u001b[0m     js[\u001b[39m'\u001b[39m\u001b[39mresourceType\u001b[39m\u001b[39m'\u001b[39m] \u001b[39m=\u001b[39m \u001b[39mself\u001b[39m\u001b[39m.\u001b[39mresource_type\n\u001b[0;32m     44\u001b[0m     \u001b[39mreturn\u001b[39;00m js\n",
      "File \u001b[1;32m~\\AppData\\Local\\pypoetry\\Cache\\virtualenvs\\fhih-NkzppR2Z-py3.11\\Lib\\site-packages\\fhirclient\\models\\fhirabstractbase.py:297\u001b[0m, in \u001b[0;36mFHIRAbstractBase.as_json\u001b[1;34m(self)\u001b[0m\n\u001b[0;32m    293\u001b[0m         errs\u001b[39m.\u001b[39mappend(\u001b[39mKeyError\u001b[39;00m(\u001b[39m\"\u001b[39m\u001b[39mProperty \u001b[39m\u001b[39m\\\"\u001b[39;00m\u001b[39m{}\u001b[39;00m\u001b[39m\\\"\u001b[39;00m\u001b[39m on \u001b[39m\u001b[39m{}\u001b[39;00m\u001b[39m is not optional, you must provide a value for it\u001b[39m\u001b[39m\"\u001b[39m\n\u001b[0;32m    294\u001b[0m             \u001b[39m.\u001b[39mformat(nonop, \u001b[39mself\u001b[39m)))\n\u001b[0;32m    296\u001b[0m \u001b[39mif\u001b[39;00m \u001b[39mlen\u001b[39m(errs) \u001b[39m>\u001b[39m \u001b[39m0\u001b[39m:\n\u001b[1;32m--> 297\u001b[0m     \u001b[39mraise\u001b[39;00m FHIRValidationError(errs)\n\u001b[0;32m    298\u001b[0m \u001b[39mreturn\u001b[39;00m js\n",
      "\u001b[1;31mFHIRValidationError\u001b[0m: {root}:\n  name:\n    Expecting property \"name\" on <class 'fhirclient.models.patient.Patient'> to be <class 'fhirclient.models.humanname.HumanName'>, but is <class 'fhir.resources.humanname.HumanName'>"
     ]
    }
   ],
   "source": [
    "import json\n",
    "from fhir.resources.patient import Patient as ResourcesPatient\n",
    "from fhirclient.models.patient import Patient as FhirClientPatient\n",
    "\n",
    "# Step 1: Read the JSON file and parse it into fhir.resources.patient.Patient object\n",
    "file_path = '../data/patient_details.fhir.json'\n",
    "resources_patient_obj = ResourcesPatient.parse_file(file_path)\n",
    "\n",
    "# Step 2: Create an instance of fhirclient.models.patient.Patient\n",
    "fhir_client_patient_obj = FhirClientPatient()\n",
    "\n",
    "from fhirclient.models.patient import Patient\n",
    "from fhirclient.models.humanname import HumanName\n",
    "\n",
    "\n",
    "\n",
    "# new_patient = Patient()\n",
    "\n",
    "# Create a HumanName object and assign it to the name attribute\n",
    "name = HumanName()\n",
    "# name.given = ['John']\n",
    "# name.family = 'Doe'\n",
    "\n",
    "# new_patient.name = [name]  # Assign the created HumanName object to the name attribute\n",
    "\n",
    "# Save the patient to the FHIR server\n",
    "# result = new_patient.create(smart.server)\n",
    "\n",
    "# Manually assign the attributes from resources_patient_obj\n",
    "fhir_client_patient_obj.id = resources_patient_obj.id\n",
    "fhir_client_patient_obj.name = resources_patient_obj.name\n",
    "# Assign other attributes as needed\n",
    "\n",
    "# Step 3: Save the patient to the FHIR server\n",
    "response = fhir_client_patient_obj.create(smart.server)\n",
    "\n",
    "# Check the response status\n",
    "if response.status_code == 201:\n",
    "    print(\"Patient created successfully!\")\n",
    "else:\n",
    "    print(f\"Failed to create patient. Status code: {response.status_code}\")\n"
   ]
  },
  {
   "cell_type": "markdown",
   "metadata": {},
   "source": [
    "This is probably possible, but would be messy. Let's just try using fhirclient instead"
   ]
  },
  {
   "cell_type": "markdown",
   "metadata": {},
   "source": [
    "### `fhirclient` "
   ]
  },
  {
   "cell_type": "code",
   "execution_count": 151,
   "metadata": {},
   "outputs": [
    {
     "ename": "FileNotFoundError",
     "evalue": "[Errno 2] No such file or directory: 'path/to/fhir.json'",
     "output_type": "error",
     "traceback": [
      "\u001b[1;31m---------------------------------------------------------------------------\u001b[0m",
      "\u001b[1;31mFileNotFoundError\u001b[0m                         Traceback (most recent call last)",
      "\u001b[1;32mc:\\Users\\ShaneShort\\Documents\\fhih_learning\\fhih-sandbox\\src\\sandbox.ipynb Cell 40\u001b[0m line \u001b[0;36m6\n\u001b[0;32m      <a href='vscode-notebook-cell:/c%3A/Users/ShaneShort/Documents/fhih_learning/fhih-sandbox/src/sandbox.ipynb#Y134sZmlsZQ%3D%3D?line=3'>4</a>\u001b[0m \u001b[39m# Read the JSON file containing the patient data\u001b[39;00m\n\u001b[0;32m      <a href='vscode-notebook-cell:/c%3A/Users/ShaneShort/Documents/fhih_learning/fhih-sandbox/src/sandbox.ipynb#Y134sZmlsZQ%3D%3D?line=4'>5</a>\u001b[0m file_path \u001b[39m=\u001b[39m \u001b[39m'\u001b[39m\u001b[39mpath/to/fhir.json\u001b[39m\u001b[39m'\u001b[39m\n\u001b[1;32m----> <a href='vscode-notebook-cell:/c%3A/Users/ShaneShort/Documents/fhih_learning/fhih-sandbox/src/sandbox.ipynb#Y134sZmlsZQ%3D%3D?line=5'>6</a>\u001b[0m \u001b[39mwith\u001b[39;00m \u001b[39mopen\u001b[39;49m(file_path) \u001b[39mas\u001b[39;00m f:\n\u001b[0;32m      <a href='vscode-notebook-cell:/c%3A/Users/ShaneShort/Documents/fhih_learning/fhih-sandbox/src/sandbox.ipynb#Y134sZmlsZQ%3D%3D?line=6'>7</a>\u001b[0m     fhir_data \u001b[39m=\u001b[39m json\u001b[39m.\u001b[39mload(f)\n\u001b[0;32m      <a href='vscode-notebook-cell:/c%3A/Users/ShaneShort/Documents/fhih_learning/fhih-sandbox/src/sandbox.ipynb#Y134sZmlsZQ%3D%3D?line=8'>9</a>\u001b[0m \u001b[39m# Create a Patient object and assign the FHIR data to it\u001b[39;00m\n",
      "File \u001b[1;32m~\\AppData\\Local\\pypoetry\\Cache\\virtualenvs\\fhih-NkzppR2Z-py3.11\\Lib\\site-packages\\IPython\\core\\interactiveshell.py:308\u001b[0m, in \u001b[0;36m_modified_open\u001b[1;34m(file, *args, **kwargs)\u001b[0m\n\u001b[0;32m    301\u001b[0m \u001b[39mif\u001b[39;00m file \u001b[39min\u001b[39;00m {\u001b[39m0\u001b[39m, \u001b[39m1\u001b[39m, \u001b[39m2\u001b[39m}:\n\u001b[0;32m    302\u001b[0m     \u001b[39mraise\u001b[39;00m \u001b[39mValueError\u001b[39;00m(\n\u001b[0;32m    303\u001b[0m         \u001b[39mf\u001b[39m\u001b[39m\"\u001b[39m\u001b[39mIPython won\u001b[39m\u001b[39m'\u001b[39m\u001b[39mt let you open fd=\u001b[39m\u001b[39m{\u001b[39;00mfile\u001b[39m}\u001b[39;00m\u001b[39m by default \u001b[39m\u001b[39m\"\u001b[39m\n\u001b[0;32m    304\u001b[0m         \u001b[39m\"\u001b[39m\u001b[39mas it is likely to crash IPython. If you know what you are doing, \u001b[39m\u001b[39m\"\u001b[39m\n\u001b[0;32m    305\u001b[0m         \u001b[39m\"\u001b[39m\u001b[39myou can use builtins\u001b[39m\u001b[39m'\u001b[39m\u001b[39m open.\u001b[39m\u001b[39m\"\u001b[39m\n\u001b[0;32m    306\u001b[0m     )\n\u001b[1;32m--> 308\u001b[0m \u001b[39mreturn\u001b[39;00m io_open(file, \u001b[39m*\u001b[39;49margs, \u001b[39m*\u001b[39;49m\u001b[39m*\u001b[39;49mkwargs)\n",
      "\u001b[1;31mFileNotFoundError\u001b[0m: [Errno 2] No such file or directory: 'path/to/fhir.json'"
     ]
    }
   ],
   "source": [
    "import json\n",
    "from fhirclient.models.patient import Patient\n",
    "\n",
    "# Read the JSON file containing the patient data\n",
    "file_path = os.path.join('..', 'data','patient_details.fhir.json')\n",
    "with open(file_path) as f:\n",
    "    fhir_data = json.load(f)\n",
    "\n",
    "# Create a Patient object and assign the FHIR data to it\n",
    "new_patient = Patient(fhir_data)\n",
    "\n",
    "# Save the patient to the FHIR server\n",
    "result = new_patient.create(smart.server)\n",
    "\n",
    "print(f'result: {result}')\n",
    "print(f'result keys: {result.keys()}')\n",
    "print(f'result keys: {result[\"meta\"]}')\n",
    "print(f'result keys: {result[\"text\"][\"status\"]}')\n",
    "\n",
    "if result[\"text\"][\"status\"] == 'generated':\n",
    "    print(\"Patient created successfully!\")\n"
   ]
  },
  {
   "cell_type": "markdown",
   "metadata": {},
   "source": [
    "## SMART on FHIR"
   ]
  },
  {
   "cell_type": "markdown",
   "metadata": {},
   "source": [
    "SMART defines two patterns for client authorization/authentication\n",
    "\n",
    "built on Oauth2\n",
    "\n"
   ]
  }
 ],
 "metadata": {
  "kernelspec": {
   "display_name": "Python 3 (ipykernel)",
   "language": "python",
   "name": "python3"
  },
  "language_info": {
   "codemirror_mode": {
    "name": "ipython",
    "version": 3
   },
   "file_extension": ".py",
   "mimetype": "text/x-python",
   "name": "python",
   "nbconvert_exporter": "python",
   "pygments_lexer": "ipython3",
   "version": "3.11.0"
  }
 },
 "nbformat": 4,
 "nbformat_minor": 2
}
